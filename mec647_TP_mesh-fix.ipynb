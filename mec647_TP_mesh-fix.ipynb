{
  "nbformat": 4,
  "nbformat_minor": 0,
  "metadata": {
    "colab": {
      "name": "mec647_TP-Notes.ipynb",
      "provenance": [],
      "collapsed_sections": [],
      "include_colab_link": true
    },
    "kernelspec": {
      "name": "python3",
      "display_name": "Python 3"
    },
    "language_info": {
      "name": "python"
    }
  },
  "cells": [
    {
      "cell_type": "markdown",
      "metadata": {
        "id": "view-in-github",
        "colab_type": "text"
      },
      "source": [
        "<a href=\"https://colab.research.google.com/github/kumiori/mec647/blob/francoisfernet---mesh/mec647_TP_mesh-fix.ipynb\" target=\"_parent\"><img src=\"https://colab.research.google.com/assets/colab-badge.svg\" alt=\"Open In Colab\"/></a>"
      ]
    },
    {
      "cell_type": "markdown",
      "source": [
        "##ESTABLISHING CONNECTION OF THE COLAB WITH DOLFINX/FENICSX/DOCKER\n",
        "\n",
        "\n",
        "\n"
      ],
      "metadata": {
        "id": "VSuepV3rw7BH"
      }
    },
    {
      "cell_type": "code",
      "execution_count": 1,
      "metadata": {
        "id": "NudXugSpxSzy"
      },
      "outputs": [],
      "source": [
        "%%capture\n",
        "import sys\n",
        "\n",
        "try:\n",
        "    import google.colab  # noqa: F401\n",
        "except ImportError:\n",
        "    import ufl  # noqa: F401\n",
        "    import dolfinx  # noqa: F401\n",
        "else:\n",
        "    try:\n",
        "        import ufl\n",
        "        import dolfinx\n",
        "    except ImportError:\n",
        "        !wget \"https://fem-on-colab.github.io/releases/fenicsx-install.sh\" -O \"/tmp/fenicsx-install.sh\" && bash \"/tmp/fenicsx-install.sh\";\n",
        "        import ufl  # noqa: F401\n",
        "        import dolfinx  # noqa: F401"
      ]
    },
    {
      "cell_type": "code",
      "source": [
        "%%capture\n",
        "!sudo apt install libgl1-mesa-glx xvfb;\n",
        "!{sys.executable} -m pip install pythreejs;\n",
        "!{sys.executable} -m pip install ipygany;\n",
        "!{sys.executable} -m pip install --upgrade pyyaml\n",
        "try:\n",
        "    import google.colab\n",
        "except ImportError:\n",
        "    pass\n",
        "else:\n",
        "    pass\n",
        "    # google.colab.output.enable_custom_widget_manager();\n",
        "try:\n",
        "    import pyvista\n",
        "except ImportError:\n",
        "    !pip3 install --upgrade pyvista itkwidgets;\n",
        "    import pyvista  # noqa: F401\n",
        "    from pyvista.utilities import xvfb"
      ],
      "metadata": {
        "id": "7Sfwa68oxYgh"
      },
      "execution_count": 2,
      "outputs": []
    },
    {
      "cell_type": "markdown",
      "source": [
        "# The problem of elasticity\n",
        "\n",
        "\n",
        "Let $\\Omega \\subset (0, L)^D$, with $D=1, 2, 3$, $L$ finite, being the (or one) characteristic length of the specimen. For any $u\\in V_t : H^1(\\Omega, R^n) + bcs(t)$ with $n=1, 2$ or $3$, consider the energy $E(u)$ defined as\n",
        "$$\n",
        "E(u)=\\frac{1}{2}\\int_\\Omega A e(u): e(u) dx - \\int_\\Omega f.u dx$$\n",
        "Above, $A$ is the 4-th order tensor of elasticity, in the isotropic and homogeneous case, it corresponds to a linear combination with two coefficients, say, $A_0$ the stiffness (dimensional), and $\\nu$ the Poisson ratio (non-dimensional). \n",
        "\n",
        "We solve:\n",
        "$$min \\left\\{ E(u):  u \\in V_t\\right\\}$$. \n",
        "\n",
        "From a mechanical  standpoint, linear elasticity is the limit regime of small deformations of the general, fully nonlinear, problem of elasticity.  \n",
        "From a mathematical standpoint, the minimisation problem above is a standard variational problem which is i) convex, ii) defined on a complete, compact,  vector space of functions, and iii) . Its solution is unique and depends continuously upon the data. Can you show this?  \n",
        "\n",
        "Boundary conditions are such that equilibrium ...\n",
        "\n",
        "The interest of the above is that $E(u)$ ...\n"
      ],
      "metadata": {
        "id": "MU0B8LEU-soU"
      }
    },
    {
      "cell_type": "markdown",
      "source": [
        "## A priori, we include the necessary libraries to run the simulation"
      ],
      "metadata": {
        "id": "WaPqCJYyxDfO"
      }
    },
    {
      "cell_type": "code",
      "source": [
        "#Numpy -> numerical library for Python. We'll use it for all array operations.\n",
        "#It's written in C and it's faster (than traditional Python)\n",
        "import numpy as np\n",
        "\n",
        "#Yaml (Yet another markup language) -> We'll use it to pass, read and structure\n",
        "#light text data in .yml files.\n",
        "import yaml\n",
        "\n",
        "#Json -> Another form to work with data. It comes from JavaScript. Similar functions\n",
        "#that Yaml. Used speacily with API request, when we need data \"fetch\".\n",
        "import json\n",
        "\n",
        "#Communication with the machine:\n",
        "#Sys -> allows to acess the system and launch commandes.\n",
        "#Os - > allows to acess the operation system.\n",
        "import sys\n",
        "import os\n",
        "from pathlib import Path\n",
        "\n",
        "#Mpi4py -> Interface that allows parallel interoperability. MPI stands for' Message\n",
        "#Passager Interface' and will be used to communicate computer nodes when lauching code\n",
        "#in a parallel way\n",
        "\n",
        "from mpi4py import MPI\n",
        "#Petcs4py -> we use this library to handle with the data. Given acesses to solvers\n",
        "import petsc4py\n",
        "from petsc4py import PETSc\n",
        "\n",
        "#Dolfinx\n",
        "import dolfinx\n",
        "import dolfinx.plot\n",
        "from dolfinx import log\n",
        "import logging\n",
        "\n",
        "logging.basicConfig(level=logging.INFO)\n",
        "\n",
        "import dolfinx\n",
        "import dolfinx.plot\n",
        "import dolfinx.io\n",
        "from dolfinx.fem import (\n",
        "    Constant,\n",
        "    Function,\n",
        "    FunctionSpace,\n",
        "    assemble_scalar,\n",
        "    dirichletbc,\n",
        "    form,\n",
        "    locate_dofs_geometrical,\n",
        "    set_bc,\n",
        ")\n",
        "\n",
        "#UFL (Unified Format Language) -> we'll be used to represent abstract way to \n",
        "#represent the language in a quadratic form\n",
        "import ufl\n",
        "\n",
        "#XDMFF -> format used for the output binary data\n",
        "from dolfinx.io import XDMFFile\n",
        "\n",
        "#Install 'gmsh' library -> we'll be used for the mesh.\n",
        "#!{sys.executable}: to use the current kernel to make the installation \n",
        "try:\n",
        "    import gmsh\n",
        "except ImportError:\n",
        "    !{sys.executable} -m pip install gmsh\n",
        "    import gmsh\n",
        "\n",
        "import matplotlib.pyplot as plt"
      ],
      "metadata": {
        "id": "tZ9egFUuxEGq",
        "colab": {
          "base_uri": "https://localhost:8080/"
        },
        "outputId": "9f59d87a-0e1d-4fac-9d9f-6a7e7f9131b0"
      },
      "execution_count": 3,
      "outputs": [
        {
          "output_type": "stream",
          "name": "stdout",
          "text": [
            "Collecting gmsh\n",
            "  Downloading gmsh-4.9.4-py2.py3-none-manylinux1_x86_64.whl (38.7 MB)\n",
            "\u001b[K     |████████████████████████████████| 38.7 MB 1.3 MB/s \n",
            "\u001b[?25hInstalling collected packages: gmsh\n",
            "Successfully installed gmsh-4.9.4\n"
          ]
        }
      ]
    },
    {
      "cell_type": "markdown",
      "source": [
        "## Clone the directory and files present in the GitHub to the colab document\n",
        "In the GItHub, there are functions and 'libraries' needed to the simulation, such as the solver itself."
      ],
      "metadata": {
        "id": "LoBjN_HCalXr"
      }
    },
    {
      "cell_type": "code",
      "source": [
        "try:\n",
        "  !git clone https://github.com/kumiori/mec647.git\n",
        "  sys.path.append('mec647/') #Change the execution directory to the copied one\n",
        "                              # from GitHub\n",
        "except:\n",
        "  pass"
      ],
      "metadata": {
        "colab": {
          "base_uri": "https://localhost:8080/"
        },
        "id": "s9PP1aUIyUKC",
        "outputId": "684feb49-96bc-4e7c-ddc7-41f4df73d784"
      },
      "execution_count": 4,
      "outputs": [
        {
          "output_type": "stream",
          "name": "stdout",
          "text": [
            "Cloning into 'mec647'...\n",
            "remote: Enumerating objects: 556, done.\u001b[K\n",
            "remote: Counting objects: 100% (556/556), done.\u001b[K\n",
            "remote: Compressing objects: 100% (456/456), done.\u001b[K\n",
            "remote: Total 556 (delta 241), reused 242 (delta 81), pack-reused 0\u001b[K\n",
            "Receiving objects: 100% (556/556), 7.27 MiB | 10.24 MiB/s, done.\n",
            "Resolving deltas: 100% (241/241), done.\n"
          ]
        }
      ]
    },
    {
      "cell_type": "code",
      "source": [
        "# meshes\n",
        "import meshes\n",
        "from meshes import primitives\n",
        "\n",
        "# visualisation\n",
        "from utils import viz\n",
        "import matplotlib.pyplot as plt\n",
        "from utils.viz import plot_mesh, plot_vector, plot_scalar"
      ],
      "metadata": {
        "id": "ouVbQ32XUpnp"
      },
      "execution_count": 5,
      "outputs": []
    },
    {
      "cell_type": "markdown",
      "source": [
        "## Defining parameters\n",
        "In this section, the parameters necessary to be precissed by the user in order to run the simulation, such as material propreties, loading, geometry, etc., are defined. The parameters are defined using dictionaries.\n"
      ],
      "metadata": {
        "id": "h5uzqK4HbI5D"
      }
    },
    {
      "cell_type": "code",
      "source": [
        "# Parameters\n",
        "\n",
        "parameters = {\n",
        "    #In case of evolution (nonlinear) problems, it's necessary to define a max\n",
        "    #and a min. For the elastic solution, just one value in needed.\n",
        "    'loading': {\n",
        "        'min': 0,\n",
        "        'max': 1\n",
        "    },\n",
        "    'geometry': {\n",
        "        'geom_type': 'bar',\n",
        "        'Lx': 1.,\n",
        "        'Ly': 0.1\n",
        "    },\n",
        "    'material': {\n",
        "        'E': 2e11,\n",
        "        'poisson': 0.3\n",
        "    },\n",
        "    'solvers': {\n",
        "        'snes': {\n",
        "            'snes_type': 'newtontr',\n",
        "            'snes_stol': 1e-8,\n",
        "            'snes_atol': 1e-8,\n",
        "            'snes_rtol': 1e-8,\n",
        "            'snes_max_it': 100,\n",
        "            'snes_monitor': \"\",\n",
        "            'ksp_type': 'preonly',\n",
        "            'pc_type': 'lu',\n",
        "            'pc_factor_mat_solver_type': 'mumps'\n",
        "        }\n",
        "    }\n",
        "}\n",
        "\n",
        "# parameters.get('loading') -> this parameters can be defined and obtained from\n",
        "# a external file. In the first exemple (mec647_VI_1), the parameters were\n",
        "# read from a .yml file.\n",
        "\n"
      ],
      "metadata": {
        "id": "xYNJNfNnzb2l"
      },
      "execution_count": 6,
      "outputs": []
    },
    {
      "cell_type": "code",
      "source": [
        "# # Mesh\n",
        "# Lx = parameters[\"geometry\"][\"Lx\"]\n",
        "# Ly = parameters[\"geometry\"][\"Ly\"]\n",
        "# geom_type = parameters[\"geometry\"][\"geom_type\"]\n",
        "\n",
        "# #When excuting this next import, we automatically import all functions present in \n",
        "# #'__init__.py'. Within this code, there are 2 really important to generate the \n",
        "# #mesh for the simulation: 'read_from_msh' (Reads a mesh from a msh-file and \n",
        "# #returns the dolfin-x mesh) and 'gmsh_model_to_mesh' (Given a GMSH model, create\n",
        "# #a DOLFIN-X mesh and MeshTags).\n",
        "# import meshes\n",
        "# #dir(meshes) -> to see what's inside of the 'meshes' routine. Similar to 'ls'(for\n",
        "# #Linux) or 'cd' (for Windows).\n",
        "\n",
        "# #This next import, allows to generates simples GMSH model given the parameters\n",
        "# #necessary. \n",
        "# from meshes import primitives\n",
        "\n",
        "# #mesh_bar_gmshapi -> Create mesh of 3d tensile test specimen according to ISO \n",
        "# #6892-1:2019 using the Python API of Gmsh.\n",
        "\n",
        "# gmsh_model, tdim = primitives.mesh_bar_gmshapi(geom_type,\n",
        "#                                     Lx, \n",
        "#                                     Ly, \n",
        "#                                     0.1, \n",
        "#                                     tdim=2)\n",
        "\n",
        "# mesh, mts = meshes.gmsh_model_to_mesh(gmsh_model,\n",
        "#                                cell_data=False,\n",
        "#                                facet_data=True,\n",
        "#                                gdim=2)\n",
        "# import matplotlib as plt\n",
        "# #Plot mesh\n",
        "# plt.figure()\n",
        "# ax = plot_mesh(mesh)\n",
        "# fig = ax.get_figure()\n",
        "# fig.savefig(f\"mesh.png\")\n"
      ],
      "metadata": {
        "id": "jP0N2XxL0Prl"
      },
      "execution_count": 7,
      "outputs": []
    },
    {
      "cell_type": "code",
      "source": [
        "def mesh_V(\n",
        "a,\n",
        "h,\n",
        "L,\n",
        "gamma,\n",
        "de,\n",
        "de2,\n",
        "key=0,\n",
        "show=False,\n",
        "filename='mesh.unv'\n",
        "):\n",
        "    \"\"\"\n",
        "    Create a 2D mesh of a notched three-point flexure specimen using GMSH.\n",
        "    a = height of the notch\n",
        "    h = height of the specimen\n",
        "    L = width of the specimen\n",
        "    gamma = notch angle\n",
        "    de = density of elements at specimen\n",
        "    de2 = density of elements at the notch and crack\n",
        "    key = 0 -> create model for Fenicxs (default)\n",
        "          1 -> create model for Cast3M\n",
        "    show = False -> doesn't open Gmsh to vizualise the mesh (default)\n",
        "           True -> open Gmsh to vizualise the mesh\n",
        "    filename = name and format of the output file for key = 1 \n",
        "    \"\"\"\n",
        "    gmsh.initialize()\n",
        "    gmsh.option.setNumber(\"General.Terminal\",1)\n",
        "    gmsh.option.setNumber(\"Mesh.Algorithm\",6)\n",
        "    model = gmsh.model()\n",
        "\n",
        "    model.add('TPB')\n",
        "    model.setCurrent('TPB')\n",
        "    hopen = a*np.tan((gamma/2.0)*np.pi/180)\n",
        "    c0 = h/10\n",
        "    tdim = 2 \n",
        "    #Generating the points of the geometrie\n",
        "    p0 = model.geo.addPoint(0.0, a, 0.0, de2, tag=0)\n",
        "    p1 = model.geo.addPoint(hopen, 0.0, 0.0, de, tag=1)\n",
        "    p2 = model.geo.addPoint(L/2, 0.0, 0.0, de, tag=2)\n",
        "    p3 = model.geo.addPoint(L/2, h, 0.0, de, tag=3)\n",
        "    p4 = model.geo.addPoint(0.0, h, 0.0, de, tag=4)\n",
        "    if key == 0:\n",
        "        p5 = model.geo.addPoint(-L/2, h, 0.0, de, tag=5)\n",
        "        p6 = model.geo.addPoint(-L/2, 0.0, 0.0, de, tag=6)\n",
        "        p7 = model.geo.addPoint(-hopen, 0.0, 0.0, de, tag=7)\n",
        "    elif key == 1:\n",
        "        p20 = model.geo.addPoint(0, a+c0, 0, de2, tag=20)\n",
        "    #Creating the lines by connecting the points\n",
        "    notch_right = model.geo.addLine(p0, p1, tag=8) \n",
        "    bot_right = model.geo.addLine(p1, p2, tag=9)\n",
        "    right = model.geo.addLine(p2, p3, tag=10)\n",
        "    top_right = model.geo.addLine(p3, p4, tag=11)\n",
        "    # if key == 0:\n",
        "    top_left = model.geo.addLine(p4, p5, tag=12)\n",
        "    left = model.geo.addLine(p5, p6, tag=13)\n",
        "    bot_left = model.geo.addLine(p6, p7, tag=14)\n",
        "    notch_left = model.geo.addLine(p7, p0, tag=15)\n",
        "  # elif key == 1:\n",
        "        # sym_plan = model.geo.addLine(p4, p20, tag=21)\n",
        "        # fissure = model.geo.addLine(p20, p0, tag=22)\n",
        "    #Creating the surface using the lines created\n",
        "    # if key == 0:\n",
        "    perimeter = model.geo.addCurveLoop([notch_right, bot_right, right, top_right, top_left, left, bot_left, notch_left])\n",
        "    # elif key == 1:\n",
        "    # perimeter = model.geo.addCurveLoop([notch_right, bot_right, right, top_right, sym_plan, fissure])\n",
        "    surface = model.geo.addPlaneSurface([perimeter])\n",
        "    #model.geo.addSurfaceLoop([surface,16])\n",
        "    model.mesh.setOrder(1)\n",
        "    model.geo.synchronize()\n",
        "\n",
        "    #Creating Physical Groups to extract data from the geometrie\n",
        "    # if key == 0:\n",
        "    gmsh.model.addPhysicalGroup(tdim-1, [left], tag = 101)\n",
        "    gmsh.model.setPhysicalName(tdim-1, 101,'Left')\n",
        "\n",
        "    gmsh.model.addPhysicalGroup(tdim-1, [right], tag=102)\n",
        "    gmsh.model.setPhysicalName(tdim-1, 102,'Right')\n",
        "\n",
        "    gmsh.model.addPhysicalGroup(tdim-2, [p2], tag=103)\n",
        "    gmsh.model.setPhysicalName(tdim-2, 103,'Left_point')\n",
        "\n",
        "    gmsh.model.addPhysicalGroup(tdim-2, [p6], tag=104)\n",
        "    gmsh.model.setPhysicalName(tdim-2, 104,'Right_point')\n",
        "\n",
        "    gmsh.model.addPhysicalGroup(tdim-2, [p4], tag=105)\n",
        "    gmsh.model.setPhysicalName(tdim-2, 105, 'Load_point')\n",
        "\n",
        "    gmsh.model.addPhysicalGroup(tdim-2, [p0], tag=106)\n",
        "    gmsh.model.setPhysicalName(tdim-2, 106, 'Notch_point')\n",
        "\n",
        "    gmsh.model.addPhysicalGroup(tdim, [surface],tag=110)\n",
        "    gmsh.model.setPhysicalName(tdim, 110, 'mesh_surface')\n",
        "    \n",
        "    # if key == 1:\n",
        "    #     gmsh.model.addPhysicalGroup(tdim, [surface],tag=110)\n",
        "    #     gmsh.model.setPhysicalName(tdim, 110, 'mesh_surface')\n",
        "\n",
        "    #     gmsh.model.addPhysicalGroup(tdim-1, [fissure], tag=111)\n",
        "    #     gmsh.model.setPhysicalName(tdim-1, 111, 'fissure')\n",
        "\n",
        "    #     gmsh.model.addPhysicalGroup(tdim-1, [sym_plan], tag=112)\n",
        "    #     gmsh.model.setPhysicalName(tdim-1, 112, 'sym_plan')\n",
        "\n",
        "    #     gmsh.model.addPhysicalGroup(tdim-2, [p20], tag=113)\n",
        "    #     gmsh.model.setPhysicalName(tdim-2, 113, 'Crack_tip')\n",
        "   \n",
        "    #Generating the mesh\n",
        "    model.geo.synchronize()\n",
        "    model.mesh.generate(tdim)\n",
        "    # if show:\n",
        "    #     gmsh.fltk.run()\n",
        "    # if key == 1:\n",
        "    #     gmsh.write(filename)\n",
        "    return gmsh.model"
      ],
      "metadata": {
        "id": "XD0aqbARlCYv"
      },
      "execution_count": 8,
      "outputs": []
    },
    {
      "cell_type": "code",
      "source": [
        "mesh_V(a=.1,h=.3,L=1.,gamma=90,de=.1,de2=.1,key=0)"
      ],
      "metadata": {
        "id": "tksML7X53yM0",
        "outputId": "9b09b59d-9ff5-4b66-8d8c-36e38e338b00",
        "colab": {
          "base_uri": "https://localhost:8080/"
        }
      },
      "execution_count": 9,
      "outputs": [
        {
          "output_type": "execute_result",
          "data": {
            "text/plain": [
              "gmsh.model"
            ]
          },
          "metadata": {},
          "execution_count": 9
        }
      ]
    },
    {
      "cell_type": "code",
      "source": [
        "from meshes import primitives\n",
        "mesh=primitives.mesh_bar_gmshapi('test',1,0.1,0.1,2)"
      ],
      "metadata": {
        "id": "32qUsKtL2M2A"
      },
      "execution_count": 10,
      "outputs": []
    },
    {
      "cell_type": "code",
      "source": [
        "a=0.00533\n",
        "h=0.0178\n",
        "L=0.0762\n",
        "gamma = 90\n",
        "de = a/5\n",
        "de2 = a/10\n",
        "gmsh_model = mesh_V(a, h, L, gamma, de, de2)\n",
        "mesh = meshes.gmsh_model_to_mesh(gmsh_model, gdim=2)"
      ],
      "metadata": {
        "id": "YfljssbKmSpp"
      },
      "execution_count": 11,
      "outputs": []
    },
    {
      "cell_type": "code",
      "source": [
        "# import matplotlib.pyplot as plt\n",
        "#Plot mesh\n",
        "plt.figure()\n",
        "ax = plot_mesh(mesh)\n",
        "fig = ax.get_figure()\n",
        "fig.savefig(f\"mesh.png\")"
      ],
      "metadata": {
        "id": "axvpAkrdtU3i",
        "colab": {
          "base_uri": "https://localhost:8080/",
          "height": 126
        },
        "outputId": "b5a65216-509f-4ac3-fecf-b5a6dcb79e2b"
      },
      "execution_count": 12,
      "outputs": [
        {
          "output_type": "display_data",
          "data": {
            "image/png": "[encoded data removed]",
            "text/plain": [
              "<Figure size 432x288 with 1 Axes>"
            ]
          },
          "metadata": {
            "needs_background": "light"
          }
        }
      ]
    },
    {
      "cell_type": "markdown",
      "source": [
        "## Defining the finite element type and others functional setting"
      ],
      "metadata": {
        "id": "mpgKI80amKvV"
      }
    },
    {
      "cell_type": "code",
      "source": [
        "# Functional setting\n",
        "#'u' represents the displacement in this problem. In order to solve it, the \n",
        "#continuos field  'u' is replaced by a discrite form u = som[vec(function_forme)\n",
        "#*vec(nodal_displacement)]\n",
        "#In order to define the vec(function_forme), the ufl library is used. \n",
        "\n",
        "#A VectorElement represents a combination of basic elements such that each\n",
        "#component of a vector is represented by the basic element. The size is usually\n",
        "#omitted, the default size equals the geometry dimension.\n",
        "\n",
        "#ulf.VectorElement(<Type of the element>, <Geometry of the element>, \n",
        "#degree=<Degree of element: 1 - Linear, 2 - Quadratic, etc.>, dim= <Target \n",
        "#dimension of the element: 1 - Line, 2 - Area, 3 - Volume>)\n",
        "\n",
        "#Lagrange is a familly type of elements -> polynomial functions of forme;\n",
        "#The Lagrange elements are going to be defined in the mesh as such we take the\n",
        "#geometry of elements present in the mesh.\n",
        "\n",
        "element_u = ufl.VectorElement(\"Lagrange\", mesh.ufl_cell(),\n",
        "                              degree=1, dim=2)\n",
        "\n",
        "#After defining the Finite Element in ufl, a association with dolfinx is made.\n",
        "#To inputs are necessary, the mesh and the element type created. In some sense, \n",
        "#we obtain the \"discretised model w/ elements definied\".\n",
        "V_u = dolfinx.fem.FunctionSpace(mesh, element_u) \n",
        "#In this model, we also defines functions necessaries to solve the problem. \n",
        "#This functions are definied in the entire space/model.\n",
        "u = dolfinx.fem.Function(V_u, name=\"Displacement\") #The discrete nodal valeus of\n",
        "                                                    #the displacement\n",
        "g = dolfinx.fem.Function(V_u, name=\"Body_pressure\")\n",
        "with g.vector.localForm() as loc:\n",
        "  loc.set(78500.0)\n",
        "#In order to defined a function in a specific subspace of the model, it must be \n",
        "#specified in the model 'V_u.sub(i)', where i = 0 -> x, 1 -> y, 2-> z.\n",
        "#Don't forget to collapse, to choose only the DOF associated with the subspace.\n"
      ],
      "metadata": {
        "id": "5ATiQASF3iuH"
      },
      "execution_count": null,
      "outputs": []
    },
    {
      "cell_type": "code",
      "source": [
        "#Functions necessaries for the Bondary conditions\n",
        "u_ = dolfinx.fem.Function(V_u, name=\"Boundary_displacement\")\n",
        "#In order to defined a function in a specific subspace of the model, it must be \n",
        "#specified in the model 'V_u.sub(i)', where i = 0 -> x, 1 -> y, 2-> z.\n",
        "#Don't forget to collapse, to choose only the DOF associated with the subspace.\n",
        "# ux_ = dolfinx.fem.Function(V_u.sub(0).collapse(), name=\"Boundary Displacement\")\n",
        "\n",
        "\n",
        "zero = Function(V_u)\n",
        "# works in parallel!\n",
        "with zero.vector.localForm() as loc:\n",
        "    loc.set(0.0)\n",
        "\n",
        "one = Function(V_u)\n",
        "# works in parallel!\n",
        "with one.vector.localForm() as loc:\n",
        "    loc.set(1.0)\n",
        "\n",
        "# g = Function(V_u)\n",
        "# # works in parallel!\n",
        "# with zero.vector.localForm() as loc:\n",
        "#     loc.set(0.0)\n"
      ],
      "metadata": {
        "id": "B-x_BOOKALTx"
      },
      "execution_count": null,
      "outputs": []
    },
    {
      "cell_type": "markdown",
      "source": [
        "##Defining  the energy function"
      ],
      "metadata": {
        "id": "O_MmrNqmxuAf"
      }
    },
    {
      "cell_type": "code",
      "source": [
        "# Integral measures -> in order to define the energy lately, it's necessary to \n",
        "#define the integral measures, as such one is a integral.\n",
        "dx = ufl.Measure(\"dx\", domain=mesh) #-> volume measure\n",
        "ds = ufl.Measure(\"ds\", domain=mesh) #-> surface measure\n"
      ],
      "metadata": {
        "id": "hvdpZ8j25cAC"
      },
      "execution_count": null,
      "outputs": []
    },
    {
      "cell_type": "code",
      "source": [
        "#Getting material parameters \n",
        "E = parameters[\"material\"][\"E\"]\n",
        "poisson = parameters[\"material\"][\"poisson\"]\n",
        "mu = E/(2*(1+poisson))\n",
        "lmbda = E*poisson/((1+poisson)*(1-2*poisson)) #carefull, lambda is a reserved word in Py\n",
        "\n",
        "#Defining a function that returns a way to calculate the deformation, which is \n",
        "#symmetric part of the gradient of the displacement.\n",
        "def _e(u):\n",
        "  return ufl.sym(ufl.grad(u))\n",
        "\n",
        "en_density = 1/2 * (2*mu* ufl.inner(_e(u),_e(u))) + lmbda*ufl.tr(_e(u))**2\n",
        "energy = en_density * dx - ufl.dot(g, u) * dx"
      ],
      "metadata": {
        "id": "rKTBpiQp6gCk"
      },
      "execution_count": null,
      "outputs": []
    },
    {
      "cell_type": "markdown",
      "source": [
        "### Boundary parts\n",
        "\n",
        "Boundary entities, that is facets  of dimension $n-1$, are identified geometrically by ```locate_entities_boundary```. \n",
        "Its last argument is a function of the (discrete) point $x$ (here, ```left(x)``` and ```right(x)```) returning whether or not (```True/False```) the point belongs to the boundary.\n",
        "\n",
        "Here, the 'right_facets' and 'left_facets' returns the numbers of the nodes where the BCs is going to be applied. The functions has as input: the mesh, the dimension of the mesh you wanna apply the BC (1 for lines, 2 for surfaces and 3 for volumes) and a function that returns 'TRUE' if the point of the mesh is in the region you want to apply the BC."
      ],
      "metadata": {
        "id": "vgBbDWS30tqw"
      }
    },
    {
      "cell_type": "code",
      "source": [
        "# boundary conditions\n",
        "\n",
        "def left(x):\n",
        "  return np.isclose(x[0], -L/2)\n",
        "\n",
        "def right(x):\n",
        "  return np.isclose(x[0], L/2)\n",
        "\n",
        "left_facets = dolfinx.mesh.locate_entities_boundary(mesh, 0, left)\n",
        "left_dofs = dolfinx.fem.locate_dofs_topological(V_u, mesh.topology.dim - 1,\n",
        "                                                left_facets)\n",
        "\n",
        "right_facets = dolfinx.mesh.locate_entities_boundary(mesh, 0, right)\n",
        "right_dofs = dolfinx.fem.locate_dofs_topological(V_u, mesh.topology.dim - 1,\n",
        "                                                right_facets)\n"
      ],
      "metadata": {
        "id": "ytXUWcFX8yHl"
      },
      "execution_count": null,
      "outputs": []
    },
    {
      "cell_type": "code",
      "source": [
        "bcs = [dirichletbc(zero, left_dofs), dirichletbc(zero, right_dofs)]"
      ],
      "metadata": {
        "id": "_RRgZb5S-y1P"
      },
      "execution_count": null,
      "outputs": []
    },
    {
      "cell_type": "code",
      "source": [
        "left_facets\n",
        "left_dofs"
      ],
      "metadata": {
        "id": "94-k9S-3-bch",
        "colab": {
          "base_uri": "https://localhost:8080/"
        },
        "outputId": "9a63678e-4933-4154-89aa-7b62536e0c4a"
      },
      "execution_count": null,
      "outputs": [
        {
          "output_type": "execute_result",
          "data": {
            "text/plain": [
              "array([ 0,  1,  2,  3,  4,  5,  7,  8,  9, 12, 13, 14, 15, 16, 17, 18, 19,\n",
              "       20, 21, 22, 26, 27, 32, 33], dtype=int32)"
            ]
          },
          "metadata": {},
          "execution_count": 17
        }
      ]
    },
    {
      "cell_type": "markdown",
      "source": [
        "## The problem, the solver.\n",
        "\n",
        "The problem class ```SNESSolver``` gives access to (a range of) \n",
        "[Scalable Nonlinear Equations Solvers](https://petsc4py.readthedocs.io/en/stable/manual/snes/) setting up the necessary residual function (the energy gradient), a pointer to boundary conditions, and the interval bounds.\n",
        "\n",
        "\n",
        "Internally, ```SNESSolver``` computes the Jacobian of the energy function by automatic differentiation. Check ```mec647/solvers/__init__.py``` for the details."
      ],
      "metadata": {
        "id": "fdhGiYDP0y1n"
      }
    },
    {
      "cell_type": "code",
      "source": [
        "\n",
        "# solving\n",
        "from solvers import SNESSolver\n",
        "D_energy_u = ufl.derivative(energy, u, ufl.TestFunction(V_u))\n",
        "\n",
        "problem = SNESSolver(\n",
        "    D_energy_u,\n",
        "    u,\n",
        "    bcs,\n",
        "    bounds=None,\n",
        "    petsc_options=parameters.get(\"solvers\").get(\"snes\"),\n",
        "    prefix=\"elast\",\n",
        ")\n",
        "\n",
        "\n",
        "problem.solve()\n"
      ],
      "metadata": {
        "id": "4OWbuLZQ-rQC",
        "colab": {
          "base_uri": "https://localhost:8080/"
        },
        "outputId": "2437ccf7-f9f1-45c5-881b-9a078b1053d3"
      },
      "execution_count": null,
      "outputs": [
        {
          "output_type": "stream",
          "name": "stdout",
          "text": [
            "  0 SNES Function norm 3.686885308680e+00 \n",
            "  1 SNES Function norm 4.029897442594e-11 \n"
          ]
        },
        {
          "output_type": "execute_result",
          "data": {
            "text/plain": [
              "(1, 2)"
            ]
          },
          "metadata": {},
          "execution_count": 18
        }
      ]
    },
    {
      "cell_type": "code",
      "source": [
        "\n",
        "def plot_vector(u, plotter, subplot=None):\n",
        "    if subplot:\n",
        "        plotter.subplot(subplot[0], subplot[1])\n",
        "    V = u.function_space\n",
        "    mesh = V.mesh\n",
        "    topology, cell_types, _ = dolfinx.plot.create_vtk_mesh(mesh, mesh.topology.dim)\n",
        "    num_dofs_local = u.function_space.dofmap.index_map.size_local\n",
        "    geometry = u.function_space.tabulate_dof_coordinates()[:num_dofs_local]\n",
        "    values = np.zeros((V.dofmap.index_map.size_local, 3), dtype=np.float64)\n",
        "    values[:, : mesh.geometry.dim] = u.vector.array.real.reshape(\n",
        "        V.dofmap.index_map.size_local, V.dofmap.index_map_bs\n",
        "    )\n",
        "    grid = pyvista.UnstructuredGrid(topology, cell_types, geometry)\n",
        "    grid[\"vectors\"] = values\n",
        "    grid.set_active_vectors(\"vectors\")\n",
        "    # geom = pyvista.Arrow()\n",
        "    # glyphs = grid.glyph(orient=\"vectors\", factor=1, geom=geom)\n",
        "    glyphs = grid.glyph(orient=\"vectors\", factor=1.0)\n",
        "    plotter.add_mesh(glyphs)\n",
        "    plotter.add_mesh(\n",
        "        grid, show_edges=True, color=\"black\", style=\"wireframe\", opacity=0.3\n",
        "    )\n",
        "    plotter.view_xy()\n",
        "    return plotter\n",
        "\n",
        "\n",
        "def plot_scalar(alpha, plotter, subplot=None, lineproperties={}):\n",
        "    if subplot:\n",
        "        plotter.subplot(subplot[0], subplot[1])\n",
        "    V = alpha.function_space\n",
        "    mesh = V.mesh\n",
        "    topology, cell_types, _ = dolfinx.plot.create_vtk_mesh(mesh, mesh.topology.dim)\n",
        "    grid = pyvista.UnstructuredGrid(topology, cell_types, mesh.geometry.x)\n",
        "\n",
        "    plotter.subplot(0, 0)\n",
        "    grid.point_data[\"alpha\"] = alpha.compute_point_values().real\n",
        "    grid.set_active_scalars(\"alpha\")\n",
        "    plotter.add_mesh(grid, **lineproperties)\n",
        "    plotter.view_xy()\n",
        "    return plotter\n"
      ],
      "metadata": {
        "id": "fnza-J4iw0zT"
      },
      "execution_count": null,
      "outputs": []
    },
    {
      "cell_type": "code",
      "source": [
        "# plt.figure()\n",
        "# ax = plot_mesh(mesh)\n",
        "# fig = ax.get_figure()\n",
        "# fig.savefig(f\"mesh.png\")\n",
        "\n",
        "# postprocessing\n",
        "xvfb.start_xvfb(wait=0.05)\n",
        "pyvista.OFF_SCREEN = True\n",
        "plotter = pyvista.Plotter(\n",
        "        title=\"Displacement\",\n",
        "        window_size=[1600, 600],\n",
        "        shape=(1, 1),\n",
        "    )\n",
        "# plt = plot_scalar(u.sub(0), plotter, subplot=(0, 0))\n",
        "_plt = plot_vector(u, plotter, subplot=(0, 0))\n",
        "\n",
        "_plt.screenshot(f\"displacement_MPI.png\")"
      ],
      "metadata": {
        "colab": {
          "base_uri": "https://localhost:8080/"
        },
        "id": "5saHgiLWxtMb",
        "outputId": "8f37d672-5b1b-4d18-8863-e135d22d54c0"
      },
      "execution_count": null,
      "outputs": [
        {
          "output_type": "execute_result",
          "data": {
            "text/plain": [
              "array([[[76, 76, 76],\n",
              "        [76, 76, 76],\n",
              "        [76, 76, 76],\n",
              "        ...,\n",
              "        [76, 76, 76],\n",
              "        [76, 76, 76],\n",
              "        [76, 76, 76]],\n",
              "\n",
              "       [[76, 76, 76],\n",
              "        [76, 76, 76],\n",
              "        [76, 76, 76],\n",
              "        ...,\n",
              "        [76, 76, 76],\n",
              "        [76, 76, 76],\n",
              "        [76, 76, 76]],\n",
              "\n",
              "       [[76, 76, 76],\n",
              "        [76, 76, 76],\n",
              "        [76, 76, 76],\n",
              "        ...,\n",
              "        [76, 76, 76],\n",
              "        [76, 76, 76],\n",
              "        [76, 76, 76]],\n",
              "\n",
              "       ...,\n",
              "\n",
              "       [[76, 76, 76],\n",
              "        [76, 76, 76],\n",
              "        [76, 76, 76],\n",
              "        ...,\n",
              "        [76, 76, 76],\n",
              "        [76, 76, 76],\n",
              "        [76, 76, 76]],\n",
              "\n",
              "       [[76, 76, 76],\n",
              "        [76, 76, 76],\n",
              "        [76, 76, 76],\n",
              "        ...,\n",
              "        [76, 76, 76],\n",
              "        [76, 76, 76],\n",
              "        [76, 76, 76]],\n",
              "\n",
              "       [[76, 76, 76],\n",
              "        [76, 76, 76],\n",
              "        [76, 76, 76],\n",
              "        ...,\n",
              "        [76, 76, 76],\n",
              "        [76, 76, 76],\n",
              "        [76, 76, 76]]], dtype=uint8)"
            ]
          },
          "metadata": {},
          "execution_count": 20
        }
      ]
    },
    {
      "cell_type": "code",
      "source": [
        "\n",
        "\n",
        "# plt.figure()\n",
        "# ax = plot_mesh(mesh)\n",
        "# fig = ax.get_figure()\n",
        "# fig.savefig(f\"mesh.png\")\n",
        "\n",
        "# postprocessing\n",
        "plotter = pyvista.Plotter(\n",
        "        title=\"Displacement\",\n",
        "        window_size=[1600, 600],\n",
        "        shape=(1, 2),\n",
        "    )\n",
        "\n",
        "# _plt = plot_scalar(u_.sub(0), plotter, subplot=(0, 0))\n",
        "_plt = plot_vector(u, plotter, subplot=(0, 1))\n",
        "_plt.screenshot(f\"displacement_MPI.png\")"
      ],
      "metadata": {
        "id": "G6yaN_wLAmBA",
        "colab": {
          "base_uri": "https://localhost:8080/"
        },
        "outputId": "6b21bcda-c308-49a4-b00d-0f3c0d5de133"
      },
      "execution_count": null,
      "outputs": [
        {
          "output_type": "execute_result",
          "data": {
            "text/plain": [
              "array([[[ 0,  0,  0],\n",
              "        [ 0,  0,  0],\n",
              "        [ 0,  0,  0],\n",
              "        ...,\n",
              "        [ 0,  0,  0],\n",
              "        [ 0,  0,  0],\n",
              "        [ 0,  0,  0]],\n",
              "\n",
              "       [[ 0,  0,  0],\n",
              "        [76, 76, 76],\n",
              "        [76, 76, 76],\n",
              "        ...,\n",
              "        [76, 76, 76],\n",
              "        [76, 76, 76],\n",
              "        [ 0,  0,  0]],\n",
              "\n",
              "       [[ 0,  0,  0],\n",
              "        [76, 76, 76],\n",
              "        [76, 76, 76],\n",
              "        ...,\n",
              "        [76, 76, 76],\n",
              "        [76, 76, 76],\n",
              "        [ 0,  0,  0]],\n",
              "\n",
              "       ...,\n",
              "\n",
              "       [[ 0,  0,  0],\n",
              "        [76, 76, 76],\n",
              "        [76, 76, 76],\n",
              "        ...,\n",
              "        [76, 76, 76],\n",
              "        [76, 76, 76],\n",
              "        [ 0,  0,  0]],\n",
              "\n",
              "       [[ 0,  0,  0],\n",
              "        [76, 76, 76],\n",
              "        [76, 76, 76],\n",
              "        ...,\n",
              "        [76, 76, 76],\n",
              "        [76, 76, 76],\n",
              "        [ 0,  0,  0]],\n",
              "\n",
              "       [[ 0,  0,  0],\n",
              "        [ 0,  0,  0],\n",
              "        [ 0,  0,  0],\n",
              "        ...,\n",
              "        [ 0,  0,  0],\n",
              "        [ 0,  0,  0],\n",
              "        [ 0,  0,  0]]], dtype=uint8)"
            ]
          },
          "metadata": {},
          "execution_count": 28
        }
      ]
    },
    {
      "cell_type": "code",
      "source": [
        "print(u)\n",
        "#viz.plot_vector()"
      ],
      "metadata": {
        "id": "zdFIc_S5B_M4",
        "colab": {
          "base_uri": "https://localhost:8080/"
        },
        "outputId": "699cf2db-cbb8-4031-f941-13cfdf118bac"
      },
      "execution_count": null,
      "outputs": [
        {
          "output_type": "stream",
          "name": "stdout",
          "text": [
            "Displacement\n"
          ]
        }
      ]
    }
  ]
}