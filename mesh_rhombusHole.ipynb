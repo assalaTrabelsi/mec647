{
  "nbformat": 4,
  "nbformat_minor": 0,
  "metadata": {
    "colab": {
      "name": "mesh-rhombusHole.ipynb",
      "provenance": [],
      "collapsed_sections": [],
      "include_colab_link": true
    },
    "kernelspec": {
      "name": "python3",
      "display_name": "Python 3"
    },
    "language_info": {
      "name": "python"
    }
  },
  "cells": [
    {
      "cell_type": "markdown",
      "metadata": {
        "id": "view-in-github",
        "colab_type": "text"
      },
      "source": [
        "<a href=\"https://colab.research.google.com/github/kumiori/mec647/blob/francoisfernet---mesh/mesh_rhombusHole.ipynb\" target=\"_parent\"><img src=\"https://colab.research.google.com/assets/colab-badge.svg\" alt=\"Open In Colab\"/></a>"
      ]
    },
    {
      "cell_type": "code",
      "execution_count": null,
      "metadata": {
        "id": "f5SUjq2X9erw"
      },
      "outputs": [],
      "source": [
        "%%capture\n",
        "import sys\n",
        "\n",
        "try:\n",
        "    import google.colab  # noqa: F401\n",
        "except ImportError:\n",
        "    import ufl  # noqa: F401\n",
        "    import dolfinx  # noqa: F401\n",
        "else:\n",
        "    try:\n",
        "        import ufl\n",
        "        import dolfinx\n",
        "    except ImportError:\n",
        "        !wget \"https://fem-on-colab.github.io/releases/fenicsx-install.sh\" -O \"/tmp/fenicsx-install.sh\" && bash \"/tmp/fenicsx-install.sh\";\n",
        "        import ufl  # noqa: F401\n",
        "        import dolfinx  # noqa: F401"
      ]
    },
    {
      "cell_type": "code",
      "source": [
        "%%capture\n",
        "!sudo apt install libgl1-mesa-glx xvfb;\n",
        "!{sys.executable} -m pip install pythreejs;\n",
        "!{sys.executable} -m pip install ipygany;\n",
        "!{sys.executable} -m pip install --upgrade pyyaml\n",
        "try:\n",
        "    import google.colab\n",
        "except ImportError:\n",
        "    pass\n",
        "else:\n",
        "    pass\n",
        "    # google.colab.output.enable_custom_widget_manager();\n",
        "try:\n",
        "    import pyvista\n",
        "except ImportError:\n",
        "    !pip3 install --upgrade pyvista itkwidgets;\n",
        "    import pyvista  # noqa: F401\n",
        "    from pyvista.utilities import xvfb\n",
        "\n",
        "try:\n",
        "    import gmsh\n",
        "except ImportError:\n",
        "    !{sys.executable} -m pip install gmsh\n",
        "    import gmsh"
      ],
      "metadata": {
        "id": "LhWX2RYa9gIM"
      },
      "execution_count": null,
      "outputs": []
    },
    {
      "cell_type": "code",
      "source": [
        "!rm -rf mec647\n",
        "\n",
        "try:\n",
        "  !git clone https://github.com/kumiori/mec647.git\n",
        "except Exception:\n",
        "  print('Something went wrong')\n",
        "\n",
        "  !rm -rf mec647\n",
        "  !git clone https://github.com/kumiori/mec647.git\n"
      ],
      "metadata": {
        "colab": {
          "base_uri": "https://localhost:8080/"
        },
        "id": "bl8nvv7U9iSU",
        "outputId": "b7fd7e14-2333-4606-eada-491c6540119a"
      },
      "execution_count": null,
      "outputs": [
        {
          "output_type": "stream",
          "name": "stdout",
          "text": [
            "Cloning into 'mec647'...\n",
            "remote: Enumerating objects: 518, done.\u001b[K\n",
            "remote: Counting objects: 100% (518/518), done.\u001b[K\n",
            "remote: Compressing objects: 100% (424/424), done.\u001b[K\n",
            "remote: Total 518 (delta 218), reused 232 (delta 76), pack-reused 0\u001b[K\n",
            "Receiving objects: 100% (518/518), 7.21 MiB | 11.27 MiB/s, done.\n",
            "Resolving deltas: 100% (218/218), done.\n"
          ]
        }
      ]
    },
    {
      "cell_type": "code",
      "source": [
        "sys.path.append('mec647/')\n"
      ],
      "metadata": {
        "id": "IsK6l5B9-QNl"
      },
      "execution_count": null,
      "outputs": []
    },
    {
      "cell_type": "code",
      "source": [
        "from utils.viz import plot_mesh"
      ],
      "metadata": {
        "id": "dAlEpqlm-HWu"
      },
      "execution_count": null,
      "outputs": []
    },
    {
      "cell_type": "code",
      "source": [
        "\n",
        "from mpi4py import MPI\n",
        "\n",
        "\n",
        "def mesh_kink(name,\n",
        "                     Lx,\n",
        "                     Ly,\n",
        "                     lc,\n",
        "                     tdim,\n",
        "                     order=1,\n",
        "                     msh_file=None,\n",
        "                     comm=MPI.COMM_WORLD):\n",
        "    \"\"\"\n",
        "    Create mesh of 3d tensile test specimen according to ISO 6892-1:2019 using the Python API of Gmsh.\n",
        "    \"\"\"\n",
        "    # Perform Gmsh work only on rank = 0\n",
        "\n",
        "    if comm.rank == 0:\n",
        "\n",
        "        import gmsh\n",
        "\n",
        "        # Initialise gmsh and set options\n",
        "        gmsh.initialize()\n",
        "        gmsh.option.setNumber(\"General.Terminal\", 1)\n",
        "\n",
        "        gmsh.option.setNumber(\"Mesh.Algorithm\", 6)\n",
        "        model = gmsh.model()\n",
        "        model.add(\"Rectangle\")\n",
        "        model.setCurrent(\"Rectangle\")\n",
        "        p1 = model.geo.addPoint(0.0, 0.0, 0, lc, tag=1)\n",
        "        p2 = model.geo.addPoint(15, 0.0, 0, lc, tag=2)\n",
        "        p3 = model.geo.addPoint(15, 25, 0.0, lc, tag=3)\n",
        "        p4 = model.geo.addPoint(0, 25, 0, lc, tag=4)\n",
        "        p5 = model.geo.addPoint(7.5, 12.7, 0, lc, tag=5)\n",
        "        p6 = model.geo.addPoint(7.5, 12.3, 0, lc, tag=6)\n",
        "        p7 = model.geo.addPoint(11.2, 18.8, 0.0, lc, tag=7)\n",
        "        p8 = model.geo.addPoint(3.75, 6.25, 0, lc, tag=8)\n",
        "        # points = [p1, p2, p3, p4, p5, p6, p7, p8]\n",
        "        bottom = model.geo.addLine(p1, p2, tag=1)\n",
        "        right = model.geo.addLine(p2, p3, tag=2)\n",
        "        top = model.geo.addLine(p3, p4, tag=3)\n",
        "        left = model.geo.addLine(p4, p0, tag=4)\n",
        "        botfissure1 = model.geo.addLine(p6, p7, tag=5)\n",
        "        botfissure2 = model.geo.addLine(p6, p8, tag=6)\n",
        "        topfissure1 = model.geo.addLine(p5, p7, tag=7)\n",
        "        topfissure2 = model.geo.addLine(p5, p8, tag=8)\n",
        "        cloop1 = model.geo.addCurveLoop([bottom, right, top, left, botfissure1, botfissure2, topfissure1, topfissure2])\n",
        "        # surface_1 =\n",
        "        model.geo.addPlaneSurface([cloop1])\n",
        "\n",
        "        model.geo.synchronize()\n",
        "        surface_entities = [model[1] for model in model.getEntities(tdim)]\n",
        "        model.addPhysicalGroup(tdim, surface_entities, tag=5)\n",
        "        model.setPhysicalName(tdim, 5, \"Rectangle surface\")\n",
        "\n",
        "        # Set mesh size via points\n",
        "        # gmsh.model.mesh.setSize(points, lc)  # heuristic\n",
        "\n",
        "        # gmsh.model.mesh.optimize(\"Netgen\")\n",
        "\n",
        "        # Set geometric order of mesh cells\n",
        "        gmsh.model.mesh.setOrder(order)\n",
        "\n",
        "        # Define physical groups for subdomains (! target tag > 0)\n",
        "        # domain = 1\n",
        "        # gmsh.model.addPhysicalGroup(tdim, [v[1] for v in volumes], domain)\n",
        "        # gmsh.model.setPhysicalName(tdim, domain, 'domain')\n",
        "        gmsh.model.addPhysicalGroup(tdim - 1, [5], tag=9)\n",
        "        gmsh.model.setPhysicalName(tdim - 1, 9, \"botfissure1\")\n",
        "        gmsh.model.addPhysicalGroup(tdim - 1, [6], tag=10)\n",
        "        gmsh.model.setPhysicalName(tdim - 1, 10, \"botfissure2\")\n",
        "        gmsh.model.addPhysicalGroup(tdim - 1, [3], tag=11)\n",
        "        gmsh.model.setPhysicalName(tdim - 1, 11, \"top\")\n",
        "        gmsh.model.addPhysicalGroup(tdim - 1, [1], tag=12)\n",
        "        gmsh.model.setPhysicalName(tdim - 1, 12, \"bottom\")\n",
        "        gmsh.model.addPhysicalGroup(tdim - 1, [7], tag=13)\n",
        "        gmsh.model.setPhysicalName(tdim - 1, 13, \"topfissure1\")\n",
        "        gmsh.model.addPhysicalGroup(tdim - 1, [8], tag=14)\n",
        "        gmsh.model.setPhysicalName(tdim - 1, 14, \"topfissure2\")\n",
        "        \n",
        "\n",
        "        model.mesh.generate(tdim)\n",
        "\n",
        "        # Optional: Write msh file\n",
        "        if msh_file is not None:\n",
        "            gmsh.write(msh_file)\n",
        "            # gmsh.write(name + \".step\")\n",
        "\n",
        "    return gmsh.model if comm.rank == 0 else None, tdim\n",
        "\n"
      ],
      "metadata": {
        "id": "dOfft5Pi9lld"
      },
      "execution_count": null,
      "outputs": []
    },
    {
      "cell_type": "code",
      "source": [
        "mesh = mesh_kink(kink , )"
      ],
      "metadata": {
        "colab": {
          "base_uri": "https://localhost:8080/",
          "height": 164
        },
        "id": "r589QzhF93O_",
        "outputId": "11223a26-23fb-44d1-8702-762cca6f6c66"
      },
      "execution_count": null,
      "outputs": [
        {
          "output_type": "error",
          "ename": "TypeError",
          "evalue": "ignored",
          "traceback": [
            "\u001b[0;31m---------------------------------------------------------------------------\u001b[0m",
            "\u001b[0;31mTypeError\u001b[0m                                 Traceback (most recent call last)",
            "\u001b[0;32m<ipython-input-9-e4ed828d1b44>\u001b[0m in \u001b[0;36m<module>\u001b[0;34m()\u001b[0m\n\u001b[0;32m----> 1\u001b[0;31m \u001b[0mmesh\u001b[0m \u001b[0;34m=\u001b[0m \u001b[0mmesh_kink\u001b[0m\u001b[0;34m(\u001b[0m\u001b[0;34m)\u001b[0m\u001b[0;34m\u001b[0m\u001b[0;34m\u001b[0m\u001b[0m\n\u001b[0m",
            "\u001b[0;31mTypeError\u001b[0m: mesh_kink() missing 5 required positional arguments: 'name', 'Lx', 'Ly', 'lc', and 'tdim'"
          ]
        }
      ]
    }
  ]
}